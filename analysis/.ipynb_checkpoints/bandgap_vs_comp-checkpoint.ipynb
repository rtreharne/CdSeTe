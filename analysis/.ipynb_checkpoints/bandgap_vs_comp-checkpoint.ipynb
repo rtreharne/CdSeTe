{
 "cells": [
  {
   "cell_type": "code",
   "execution_count": 1,
   "metadata": {
    "collapsed": false
   },
   "outputs": [
    {
     "name": "stdout",
     "output_type": "stream",
     "text": [
      "Populating the interactive namespace from numpy and matplotlib\n"
     ]
    }
   ],
   "source": [
    "%pylab inline"
   ]
  },
  {
   "cell_type": "code",
   "execution_count": 2,
   "metadata": {
    "collapsed": true
   },
   "outputs": [],
   "source": [
    "import os\n",
    "import sys\n",
    "import csv\n",
    "CdTe = os.path.abspath(os.path.join('CdTe_prof.txt'))\n",
    "CdSe = os.path.abspath(os.path.join('CdSe_prof.txt'))\n",
    "Eg = os.path.abspath(os.path.join('160628-B_bandgap.txt'))\n",
    "\n",
    "\n"
   ]
  },
  {
   "cell_type": "code",
   "execution_count": 10,
   "metadata": {
    "collapsed": true
   },
   "outputs": [],
   "source": [
    "def get_data(path):\n",
    "    f = open (path, 'rb')\n",
    "    reader = csv.reader(f)\n",
    "   \n",
    "    data = {}\n",
    "    data[\"header\"] = []\n",
    "       \n",
    "    for line in reader:\n",
    "        item = line[0].split(\"\\t\")\n",
    "        try:\n",
    "           \n",
    "            array = [float(x) for x in item]\n",
    "            label = '{0},{1}'.format(array[0], array[1])\n",
    "            data[label] = {'x': array[0], 'y': array[1], 'z':array[2]}\n",
    "        except:\n",
    "            data[\"header\"].append(item)\n",
    "    \n",
    "    return data\n"
   ]
  },
  {
   "cell_type": "code",
   "execution_count": 44,
   "metadata": {
    "collapsed": false
   },
   "outputs": [],
   "source": [
    "Egdat = get_data(Eg)\n",
    "CdTedat = get_data(CdTe)\n",
    "CdSedat = get_data(CdSe)"
   ]
  },
  {
   "cell_type": "code",
   "execution_count": 175,
   "metadata": {
    "collapsed": false
   },
   "outputs": [],
   "source": [
    "def calc_comp(CdTe, CdSe, Eg):\n",
    "    print len(CdTe), len(CdSe)\n",
    "    new = {}\n",
    "    for key in CdTe:\n",
    "        try:\n",
    "            print CdTe[key].get('y', None)\n",
    "            new[key] = {'y': CdTe[key].get('y', None)}\n",
    "        except:\n",
    "            continue\n",
    "    \n",
    "    return new\n",
    "    "
   ]
  },
  {
   "cell_type": "code",
   "execution_count": 176,
   "metadata": {
    "collapsed": false
   },
   "outputs": [
    {
     "name": "stdout",
     "output_type": "stream",
     "text": [
      "101 101\n",
      "-4.5\n",
      "3.5\n",
      "3.5\n",
      "-3.5\n",
      "-0.5\n",
      "-2.5\n",
      "4.5\n",
      "-1.5\n",
      "-4.5\n",
      "2.5\n",
      "-3.5\n",
      "-2.5\n",
      "0.5\n",
      "-3.5\n",
      "-1.5\n",
      "-2.5\n",
      "-2.5\n",
      "-4.5\n",
      "2.5\n",
      "-1.5\n",
      "-4.5\n",
      "1.5\n",
      "-0.5\n",
      "1.5\n",
      "-0.5\n",
      "2.5\n",
      "2.5\n",
      "3.5\n",
      "-3.5\n",
      "4.5\n",
      "4.5\n",
      "1.5\n",
      "4.5\n",
      "-1.5\n",
      "-0.5\n",
      "-4.5\n",
      "-2.5\n",
      "3.5\n",
      "1.5\n",
      "-3.5\n",
      "-4.5\n",
      "-2.5\n",
      "4.5\n",
      "1.5\n",
      "-3.5\n",
      "-0.5\n",
      "-1.5\n",
      "3.5\n",
      "-2.5\n",
      "-0.5\n",
      "0.5\n",
      "0.5\n",
      "-3.5\n",
      "-0.5\n",
      "-4.5\n",
      "-1.5\n",
      "1.5\n",
      "2.5\n",
      "3.5\n",
      "-2.5\n",
      "0.5\n",
      "-3.5\n",
      "3.5\n",
      "-0.5\n",
      "1.5\n",
      "0.5\n",
      "3.5\n",
      "-1.5\n",
      "-4.5\n",
      "4.5\n",
      "-3.5\n",
      "2.5\n",
      "-0.5\n",
      "1.5\n",
      "3.5\n",
      "1.5\n",
      "-1.5\n",
      "-2.5\n",
      "0.5\n",
      "0.5\n",
      "-1.5\n",
      "-2.5\n",
      "0.5\n",
      "4.5\n",
      "-0.5\n",
      "2.5\n",
      "0.5\n",
      "-3.5\n",
      "2.5\n",
      "4.5\n",
      "-1.5\n",
      "4.5\n",
      "4.5\n",
      "0.5\n",
      "3.5\n",
      "-4.5\n",
      "2.5\n",
      "-4.5\n",
      "1.5\n",
      "2.5\n"
     ]
    }
   ],
   "source": [
    "new = calc_comp(CdTedat, CdSedat, Egdat)"
   ]
  },
  {
   "cell_type": "code",
   "execution_count": 178,
   "metadata": {
    "collapsed": false
   },
   "outputs": [],
   "source": [
    "new"
   ]
  },
  {
   "cell_type": "code",
   "execution_count": null,
   "metadata": {
    "collapsed": true
   },
   "outputs": [],
   "source": []
  },
  {
   "cell_type": "code",
   "execution_count": null,
   "metadata": {
    "collapsed": true
   },
   "outputs": [],
   "source": []
  }
 ],
 "metadata": {
  "kernelspec": {
   "display_name": "Python 2",
   "language": "python",
   "name": "python2"
  },
  "language_info": {
   "codemirror_mode": {
    "name": "ipython",
    "version": 2
   },
   "file_extension": ".py",
   "mimetype": "text/x-python",
   "name": "python",
   "nbconvert_exporter": "python",
   "pygments_lexer": "ipython2",
   "version": "2.7.6"
  }
 },
 "nbformat": 4,
 "nbformat_minor": 0
}
