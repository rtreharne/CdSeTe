{
 "cells": [
  {
   "cell_type": "code",
   "execution_count": 277,
   "metadata": {
    "collapsed": false
   },
   "outputs": [
    {
     "name": "stdout",
     "output_type": "stream",
     "text": [
      "Populating the interactive namespace from numpy and matplotlib\n"
     ]
    }
   ],
   "source": [
    "%pylab inline"
   ]
  },
  {
   "cell_type": "code",
   "execution_count": 278,
   "metadata": {
    "collapsed": true
   },
   "outputs": [],
   "source": [
    "import os\n",
    "import sys\n",
    "import csv\n",
    "path = os.path.abspath(os.path.join('CdSe_prof_90clock.txt'))\n",
    "\n",
    "\n"
   ]
  },
  {
   "cell_type": "code",
   "execution_count": 279,
   "metadata": {
    "collapsed": true
   },
   "outputs": [],
   "source": [
    "def get_data(path):\n",
    "    f = open (path, 'rb')\n",
    "    reader = csv.reader(f)\n",
    "    header = []\n",
    "    data = []\n",
    "       \n",
    "    for line in reader:\n",
    "        item = line[0].split(\"\\t\")\n",
    "        try:\n",
    "            data.append([float(x) for x in item])\n",
    "        except:\n",
    "            header.append(item)\n",
    "    \n",
    "    return transpose(data)\n"
   ]
  },
  {
   "cell_type": "code",
   "execution_count": 280,
   "metadata": {
    "collapsed": false
   },
   "outputs": [],
   "source": [
    "data = get_data(path)"
   ]
  },
  {
   "cell_type": "code",
   "execution_count": 281,
   "metadata": {
    "collapsed": true
   },
   "outputs": [],
   "source": [
    "def sortthis(array):\n",
    "    sort1 = sorted(array, key=lambda x: x[0])\n",
    "    sort2 = sorted(sort1, key=lambda x: x[1])\n",
    "    \n",
    "    return sort2"
   ]
  },
  {
   "cell_type": "code",
   "execution_count": 282,
   "metadata": {
    "collapsed": false
   },
   "outputs": [],
   "source": [
    "def rotate(data, angle):\n",
    "    xrot = []\n",
    "    yrot = []\n",
    "    x = data[0]\n",
    "    y = data[1]\n",
    "    #convert angle to rad\n",
    "    theta = angle*np.pi/180.0\n",
    "    for i in range (len(data[0])):\n",
    "        #print x[i], y[i], x[i]*np.cos(theta) - y[i]*np.sin(theta), x[i]*np.sin(theta) + y[i]*np.cos(theta), theta\n",
    "        xrot.append(round((x[i]*np.cos(theta) - y[i]*np.sin(theta)), 1))\n",
    "        yrot.append(round((x[i]*np.sin(theta) + y[i]*np.cos(theta)), 1))\n",
    "        \n",
    "    return [xrot, yrot, data[2]]\n",
    "    \n",
    "        \n",
    "        \n"
   ]
  },
  {
   "cell_type": "code",
   "execution_count": 283,
   "metadata": {
    "collapsed": true
   },
   "outputs": [],
   "source": [
    "def write_data(data, path):\n",
    "    tdata = transpose(data)\n",
    "    \n",
    "    f = open(path, 'w')\n",
    "    for line in tdata:\n",
    "        strdat = \"\\t\".join(map(str, line))\n",
    "        f.write('{0}\\n'.format(strdat))\n",
    "    f.close\n",
    "    "
   ]
  },
  {
   "cell_type": "code",
   "execution_count": 284,
   "metadata": {
    "collapsed": false
   },
   "outputs": [],
   "source": [
    "rotdat = rotate(data, 90)\n",
    "rotdat\n",
    "write_data(rotdat, 'CdSe_prof.txt')"
   ]
  },
  {
   "cell_type": "code",
   "execution_count": null,
   "metadata": {
    "collapsed": true
   },
   "outputs": [],
   "source": []
  }
 ],
 "metadata": {
  "kernelspec": {
   "display_name": "Python 2",
   "language": "python",
   "name": "python2"
  },
  "language_info": {
   "codemirror_mode": {
    "name": "ipython",
    "version": 2
   },
   "file_extension": ".py",
   "mimetype": "text/x-python",
   "name": "python",
   "nbconvert_exporter": "python",
   "pygments_lexer": "ipython2",
   "version": "2.7.6"
  }
 },
 "nbformat": 4,
 "nbformat_minor": 0
}
